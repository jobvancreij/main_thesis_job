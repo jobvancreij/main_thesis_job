{
 "cells": [
  {
   "cell_type": "code",
   "execution_count": null,
   "metadata": {},
   "outputs": [],
   "source": [
    "#from keras.models import load_model\n",
    "import json\n",
    "import warnings\n",
    "import sys\n",
    "import platform\n",
    "import pandas as pd\n",
    "warnings.filterwarnings('ignore')"
   ]
  },
  {
   "cell_type": "code",
   "execution_count": null,
   "metadata": {},
   "outputs": [],
   "source": [
    "#import custom \n",
    "from LJT_database.merge_dataset import retrieve_data_predictors\n",
    "from deep_learning_models.feature_selection import create_reduced_features\n",
    "from deep_learning_models.training_models import build_model\n",
    "from LJT_database.firestore_codes import  add_update,retrieve_updates\n",
    "from LJT_database.feature_prep import feature_preperation\n"
   ]
  },
  {
   "cell_type": "code",
   "execution_count": null,
   "metadata": {},
   "outputs": [],
   "source": [
    "general_settings=retrieve_updates(dataset=f\"ETHBTC_LSTM_experiments\",\n",
    "                                        document=\"experiment_general_settings\"\n",
    "                                        )\n",
    "dataset_prepared = feature_preperation(retrieve_data_predictors(general_settings)) #retrieve and clea\n"
   ]
  },
  {
   "cell_type": "markdown",
   "metadata": {},
   "source": [
    "# LSTM "
   ]
  },
  {
   "cell_type": "code",
   "execution_count": null,
   "metadata": {},
   "outputs": [],
   "source": [
    "\n",
    "general_settings=retrieve_updates(dataset=f\"ETHBTC_LSTM_experiments\",\n",
    "                                        document=\"experiment_general_settings\"\n",
    "                                        )\n",
    "df = create_reduced_features(dataset_prepared,general_settings)\n"
   ]
  },
  {
   "cell_type": "markdown",
   "metadata": {},
   "source": [
    "### Model 1 min\n"
   ]
  },
  {
   "cell_type": "code",
   "execution_count": null,
   "metadata": {},
   "outputs": [],
   "source": [
    "settings_analysis = {\n",
    "    \"algoirthm\":\"LSTM\",\n",
    "    \"experiment_date\":\"5_28\",\n",
    "    \"neurons\":75,\n",
    "    \"dropout\":0.4536499963739309,\n",
    "    \"loss_func\": \"binary_crossentropy\",\n",
    "    \"activation_function\":\"relu\",\n",
    "    \"number_layers\":1,\n",
    "    \"batch_size\":940,\n",
    "    \"epochs\":500,\n",
    "    \"bidrectional\":False,\n",
    "    \"window_size\":70,\n",
    "    \"time_ahead_prediction\":1,\n",
    "    \"optimizer\":'adam',\n",
    "    \"learning_rate\": 0.0025558826976665675\n",
    "}"
   ]
  },
  {
   "cell_type": "code",
   "execution_count": null,
   "metadata": {},
   "outputs": [],
   "source": [
    "model = build_model(settings_analysis,general_settings,df,save_model=True,normalized=True)\n",
    "model.save(\"final_model_1_min_LSTM.h5\")\n"
   ]
  },
  {
   "cell_type": "markdown",
   "metadata": {},
   "source": [
    "### Model 15 min\n"
   ]
  },
  {
   "cell_type": "code",
   "execution_count": null,
   "metadata": {},
   "outputs": [],
   "source": [
    "settings_analysis = {\n",
    "    \"algoirthm\":\"LSTM\",\n",
    "    \"experiment_date\":\"11_6\",\n",
    "    \"neurons\":75,\n",
    "    \"dropout\":0.016933886557916555,\n",
    "    \"loss_func\": \"binary_crossentropy\",\n",
    "    \"activation_function\":\"sigmoid\",\n",
    "    \"number_layers\":1,\n",
    "    \"batch_size\":1160,\n",
    "    \"epochs\":1000,\n",
    "    \"bidrectional\":False,\n",
    "    \"window_size\":113,\n",
    "    \"time_ahead_prediction\":15,\n",
    "    \"optimizer\":'rmsprop',\n",
    "    \"learning_rate\": 0.03387409924921099\n",
    "}"
   ]
  },
  {
   "cell_type": "code",
   "execution_count": null,
   "metadata": {},
   "outputs": [],
   "source": [
    "model = build_model(settings_analysis,general_settings,df,save_model=True,normalized=True)\n",
    "model.save(\"final_model_15_min_LSTM_new_dataset.h5\")"
   ]
  },
  {
   "cell_type": "markdown",
   "metadata": {},
   "source": [
    "# GRU"
   ]
  },
  {
   "cell_type": "code",
   "execution_count": null,
   "metadata": {},
   "outputs": [],
   "source": [
    "general_settings=retrieve_updates(dataset=f\"ETHBTC_GRU_experiments\",\n",
    "                                        document=\"experiment_general_settings\"\n",
    "                                        )\n",
    "dataset_prepared = feature_preperation(retrieve_data_predictors(general_settings)) #retrieve and clea"
   ]
  },
  {
   "cell_type": "markdown",
   "metadata": {},
   "source": [
    "### Model 1 min"
   ]
  },
  {
   "cell_type": "code",
   "execution_count": null,
   "metadata": {},
   "outputs": [],
   "source": [
    "settings_analysis = {\n",
    "    \"algoirthm\":\"GRU\",\n",
    "    \"experiment_date\":\"6_8\",\n",
    "    \"neurons\":75,\n",
    "    \"dropout\":0.32574942001291723,\n",
    "    \"loss_func\": \"binary_crossentropy\",\n",
    "    \"activation_function\":\"sigmoid\",\n",
    "    \"number_layers\":1,\n",
    "    \"batch_size\":2160,\n",
    "    \"epochs\":800,\n",
    "    \"bidrectional\":False,\n",
    "    \"window_size\":8,\n",
    "    \"time_ahead_prediction\":1,\n",
    "    \"optimizer\":'adam',\n",
    "    \"learning_rate\": 0.0191775955412133\n",
    "}"
   ]
  },
  {
   "cell_type": "code",
   "execution_count": null,
   "metadata": {},
   "outputs": [],
   "source": [
    "model = build_model(settings_analysis,general_settings,df,save_model=True,normalized=True)\n",
    "\n",
    "model.save(\"final_model_1_min_GRU_new_dataset.h5\")"
   ]
  },
  {
   "cell_type": "markdown",
   "metadata": {},
   "source": [
    "### Model 15 min"
   ]
  },
  {
   "cell_type": "code",
   "execution_count": null,
   "metadata": {},
   "outputs": [],
   "source": [
    "settings_analysis = {\n",
    "    \"algoirthm\":\"GRU\",\n",
    "    \"experiment_date\":\"6_8\",\n",
    "    \"neurons\":75,\n",
    "    \"dropout\":0.024838433441053263,\n",
    "    \"loss_func\": \"binary_crossentropy\",\n",
    "    \"activation_function\":\"sigmoid\",\n",
    "    \"number_layers\":1,\n",
    "    \"batch_size\":2780,\n",
    "    \"epochs\":400,\n",
    "    \"bidrectional\":False,\n",
    "    \"window_size\":113,\n",
    "    \"time_ahead_prediction\":15,\n",
    "    \"optimizer\":'rmsprop',\n",
    "    \"learning_rate\": 0.008949281154637972\n",
    "}"
   ]
  },
  {
   "cell_type": "code",
   "execution_count": null,
   "metadata": {},
   "outputs": [],
   "source": [
    "model = build_model(settings_analysis,general_settings,df,save_model=True,normalized=True)\n",
    "model.save(\"final_model_15_min_GRU_new_2.h5\")"
   ]
  },
  {
   "cell_type": "code",
   "execution_count": null,
   "metadata": {},
   "outputs": [],
   "source": []
  }
 ],
 "metadata": {
  "kernelspec": {
   "display_name": "Python 3",
   "language": "python",
   "name": "python3"
  },
  "language_info": {
   "codemirror_mode": {
    "name": "ipython",
    "version": 3
   },
   "file_extension": ".py",
   "mimetype": "text/x-python",
   "name": "python",
   "nbconvert_exporter": "python",
   "pygments_lexer": "ipython3",
   "version": "3.6.8"
  },
  "pycharm": {
   "stem_cell": {
    "cell_type": "raw",
    "source": [],
    "metadata": {
     "collapsed": false
    }
   }
  }
 },
 "nbformat": 4,
 "nbformat_minor": 4
}