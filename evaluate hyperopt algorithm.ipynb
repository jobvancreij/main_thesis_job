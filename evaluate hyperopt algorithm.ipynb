{
 "cells": [
  {
   "cell_type": "markdown",
   "metadata": {},
   "source": [
    "This notebook is used for the sole purpose of gathering some information during experiment 2 \n",
    "The function calls the Mongodb where the information for the hyperopt algorithm is stored. With this code I can check if everything is working as I expected (and checking every 5 min if the accuracy is already improved:)) "
   ]
  },
  {
   "cell_type": "code",
   "execution_count": null,
   "metadata": {},
   "outputs": [],
   "source": [
    "experiment_date = \"6_25\"\n"
   ]
  },
  {
   "cell_type": "code",
   "execution_count": null,
   "metadata": {},
   "outputs": [],
   "source": [
    "from run_experiments.experiment_2 import make_space\n",
    "from hyperopt import space_eval\n",
    "from LJT_database.firestore_codes import  add_update, retrieve_updates\n",
    "import pandas as pd\n",
    "from hyperopt.mongoexp import MongoTrials\n",
    "import pymongo\n",
    "import dns\n",
    "\n",
    "client = pymongo.MongoClient(\"mongodb://34.66.233.70:5000/\")\n",
    "mydb = client.eval_db\n",
    "collection = mydb.jobs\n",
    "\n",
    "#collection.drop()\n",
    "   \n",
    "coin=\"ETHBTC\"\n",
    "algorithm = \"LSTM\"\n",
    "settings_experiment_2 = retrieve_updates(dataset=f\"{coin}_{algorithm}_experiments\",\n",
    "                                    document=\"experiment2_settings\")\n",
    "\n",
    "settings = retrieve_updates(dataset=f\"{coin}_{algorithm}_experiments\",\n",
    "                                            document=\"experiment_general_settings\")\n",
    "\n",
    "space = make_space(settings_experiment_2)\n",
    "\n",
    "all_data = []\n",
    "for doc in collection.find():\n",
    "    if doc[\"exp_key\"] == experiment_date:\n",
    "        results = doc['result']\n",
    "        tests = space_eval(space, {key: value[0] for key, value in doc['misc']['vals'].items()})\n",
    "        data = {**results, **tests}\n",
    "        data[\"experiment_date\"] = settings[\"experiment_date\"]\n",
    "        all_data.append(data)"
   ]
  },
  {
   "cell_type": "code",
   "execution_count": null,
   "metadata": {},
   "outputs": [],
   "source": [
    "x = pd.DataFrame(all_data)"
   ]
  },
  {
   "cell_type": "code",
   "execution_count": null,
   "metadata": {},
   "outputs": [],
   "source": [
    "x.head()"
   ]
  },
  {
   "cell_type": "code",
   "execution_count": null,
   "metadata": {},
   "outputs": [],
   "source": [
    "print(len(x))\n",
    "x.sort_values('accuracy_val').iloc[-50:-1]"
   ]
  },
  {
   "cell_type": "code",
   "execution_count": null,
   "metadata": {},
   "outputs": [],
   "source": [
    "x.sort_values(\"loss\")[[\"accuracy_val\",'highest_train_ac','optimizer','dropout','activation_function','learning_rate','epochs','batch_size']].head(150)"
   ]
  },
  {
   "cell_type": "code",
   "execution_count": null,
   "metadata": {},
   "outputs": [],
   "source": [
    "#plot the loss over time (opposite of accuracy)\n",
    "x.iloc[:]['loss'].plot.line()"
   ]
  }
 ],
 "metadata": {
  "kernelspec": {
   "display_name": "Python 3",
   "language": "python",
   "name": "python3"
  },
  "language_info": {
   "codemirror_mode": {
    "name": "ipython",
    "version": 3
   },
   "file_extension": ".py",
   "mimetype": "text/x-python",
   "name": "python",
   "nbconvert_exporter": "python",
   "pygments_lexer": "ipython3",
   "version": "3.6.8"
  }
 },
 "nbformat": 4,
 "nbformat_minor": 4
}
