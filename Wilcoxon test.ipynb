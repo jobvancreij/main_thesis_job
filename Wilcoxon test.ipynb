{
 "cells": [
  {
   "cell_type": "code",
   "execution_count": 1,
   "metadata": {},
   "outputs": [],
   "source": [
    "import pandas as pd\n",
    "import numpy as np\n",
    "import matplotlib.pyplot as plt\n",
    "from itertools import chain, combinations\n",
    "from scipy.stats import wilcoxon"
   ]
  },
  {
   "cell_type": "code",
   "execution_count": 2,
   "metadata": {},
   "outputs": [],
   "source": [
    "baseline_models = pd.read_csv(\"baseline_models.csv\")"
   ]
  },
  {
   "cell_type": "code",
   "execution_count": 3,
   "metadata": {},
   "outputs": [],
   "source": [
    "first_val = baseline_models[\"Bitcoin\"].reset_index(drop=True).values[0]\n",
    "last_val = baseline_models[\"Bitcoin\"].reset_index(drop=True).values[-1]"
   ]
  },
  {
   "cell_type": "code",
   "execution_count": 4,
   "metadata": {},
   "outputs": [],
   "source": [
    "all_trades = pd.read_csv(\"final_scores_trading.csv\")"
   ]
  },
  {
   "cell_type": "code",
   "execution_count": 5,
   "metadata": {},
   "outputs": [],
   "source": [
    "all_options = [\n",
    "    'LSTM_1_strategy1_dollars',\n",
    "    'LSTM_1_strategy2_dollars',\n",
    "    'GRU_1_strategy1_dollars',\n",
    "    'GRU_1_strategy2_dollars',\n",
    "    'LSTM_15_strategy1_dollars',\n",
    "    'LSTM_15_strategy2_dollars',\n",
    "    'GRU_15_strategy1_dollars',\n",
    "    'GRU_15_strategy2_dollars'\n",
    "               ]"
   ]
  },
  {
   "cell_type": "code",
   "execution_count": 6,
   "metadata": {},
   "outputs": [],
   "source": [
    "#perform wilcoxen test for every combination of trading scores\n",
    "all_tests = {x:{} for x in all_options}\n",
    "for x,y in combinations(all_options,2):  \n",
    "        \n",
    "        strat_1_change = all_trades[x].rolling(1).sum().pct_change().values #change per min strat 1 \n",
    "        strat_2_change = all_trades[y].rolling(1).sum().pct_change().values #change per min strat 2 \n",
    "        difference = [] \n",
    "        for i in range(1,len(strat_2_change)):\n",
    "            difference.append(strat_1_change[i]- strat_2_change[i]) #difference in change per minute \n",
    "        difference = difference[1:] #since we did rolling window first variable is nan, remove this one \n",
    "        stat,p = wilcoxon(difference) #testscores\n",
    "        all_tests[x][y] = p #tore testsscores\n",
    "\n"
   ]
  },
  {
   "cell_type": "code",
   "execution_count": 7,
   "metadata": {},
   "outputs": [],
   "source": [
    "#make a dataframe that contains all the tests scores\n",
    "\n",
    "scores_tests = pd.DataFrame(columns=all_options,index=all_options)\n",
    "for i in all_options:\n",
    "    for j in all_options:\n",
    "        if i == j:\n",
    "            scores_tests[i].loc[j] = 'x'\n",
    "        else:\n",
    "            try: #don't know if the dictionary says [strat_1][strat_2] or other way around. So in try except \n",
    "                p_val = round(all_tests[i][j],4)\n",
    "                if p_val <=0.05:\n",
    "                    p_val =str(p_val) + \"*\"\n",
    "                scores_tests[i].loc[j] = p_val\n",
    "                scores_tests[j].loc[i] = p_val\n",
    "            except:\n",
    "                p_val = round(all_tests[j][i],4)\n",
    "                if p_val <=0.05:\n",
    "                    p_val =str(p_val) + \"*\"\n",
    "                scores_tests[i].loc[j] = p_val\n",
    "                scores_tests[j].loc[i] = p_val\n",
    "                \n",
    "                \n",
    "                "
   ]
  },
  {
   "cell_type": "code",
   "execution_count": 8,
   "metadata": {},
   "outputs": [],
   "source": [
    "scores_tests.to_csv(\"outcomes_wilcoxon.csv\") #store"
   ]
  },
  {
   "cell_type": "code",
   "execution_count": 9,
   "metadata": {},
   "outputs": [
    {
     "data": {
      "text/html": [
       "<div>\n",
       "<style scoped>\n",
       "    .dataframe tbody tr th:only-of-type {\n",
       "        vertical-align: middle;\n",
       "    }\n",
       "\n",
       "    .dataframe tbody tr th {\n",
       "        vertical-align: top;\n",
       "    }\n",
       "\n",
       "    .dataframe thead th {\n",
       "        text-align: right;\n",
       "    }\n",
       "</style>\n",
       "<table border=\"1\" class=\"dataframe\">\n",
       "  <thead>\n",
       "    <tr style=\"text-align: right;\">\n",
       "      <th></th>\n",
       "      <th>LSTM_1_strategy1_dollars</th>\n",
       "      <th>LSTM_1_strategy2_dollars</th>\n",
       "      <th>GRU_1_strategy1_dollars</th>\n",
       "      <th>GRU_1_strategy2_dollars</th>\n",
       "      <th>LSTM_15_strategy1_dollars</th>\n",
       "      <th>LSTM_15_strategy2_dollars</th>\n",
       "      <th>GRU_15_strategy1_dollars</th>\n",
       "      <th>GRU_15_strategy2_dollars</th>\n",
       "    </tr>\n",
       "  </thead>\n",
       "  <tbody>\n",
       "    <tr>\n",
       "      <th>LSTM_1_strategy1_dollars</th>\n",
       "      <td>x</td>\n",
       "      <td>0.7985</td>\n",
       "      <td>0.0237*</td>\n",
       "      <td>0.0223*</td>\n",
       "      <td>0.6421</td>\n",
       "      <td>0.579</td>\n",
       "      <td>0.2716</td>\n",
       "      <td>0.7236</td>\n",
       "    </tr>\n",
       "    <tr>\n",
       "      <th>LSTM_1_strategy2_dollars</th>\n",
       "      <td>0.7985</td>\n",
       "      <td>x</td>\n",
       "      <td>0.0221*</td>\n",
       "      <td>0.0174*</td>\n",
       "      <td>0.6084</td>\n",
       "      <td>0.332</td>\n",
       "      <td>0.0668</td>\n",
       "      <td>0.3619</td>\n",
       "    </tr>\n",
       "    <tr>\n",
       "      <th>GRU_1_strategy1_dollars</th>\n",
       "      <td>0.0237*</td>\n",
       "      <td>0.0221*</td>\n",
       "      <td>x</td>\n",
       "      <td>0.1359</td>\n",
       "      <td>0.0119*</td>\n",
       "      <td>0.0067*</td>\n",
       "      <td>0.002*</td>\n",
       "      <td>0.007*</td>\n",
       "    </tr>\n",
       "    <tr>\n",
       "      <th>GRU_1_strategy2_dollars</th>\n",
       "      <td>0.0223*</td>\n",
       "      <td>0.0174*</td>\n",
       "      <td>0.1359</td>\n",
       "      <td>x</td>\n",
       "      <td>0.0139*</td>\n",
       "      <td>0.0058*</td>\n",
       "      <td>0.0016*</td>\n",
       "      <td>0.0069*</td>\n",
       "    </tr>\n",
       "    <tr>\n",
       "      <th>LSTM_15_strategy1_dollars</th>\n",
       "      <td>0.6421</td>\n",
       "      <td>0.6084</td>\n",
       "      <td>0.0119*</td>\n",
       "      <td>0.0139*</td>\n",
       "      <td>x</td>\n",
       "      <td>0.5184</td>\n",
       "      <td>0.5528</td>\n",
       "      <td>0.7991</td>\n",
       "    </tr>\n",
       "  </tbody>\n",
       "</table>\n",
       "</div>"
      ],
      "text/plain": [
       "                          LSTM_1_strategy1_dollars LSTM_1_strategy2_dollars  \\\n",
       "LSTM_1_strategy1_dollars                         x                   0.7985   \n",
       "LSTM_1_strategy2_dollars                    0.7985                        x   \n",
       "GRU_1_strategy1_dollars                    0.0237*                  0.0221*   \n",
       "GRU_1_strategy2_dollars                    0.0223*                  0.0174*   \n",
       "LSTM_15_strategy1_dollars                   0.6421                   0.6084   \n",
       "\n",
       "                          GRU_1_strategy1_dollars GRU_1_strategy2_dollars  \\\n",
       "LSTM_1_strategy1_dollars                  0.0237*                 0.0223*   \n",
       "LSTM_1_strategy2_dollars                  0.0221*                 0.0174*   \n",
       "GRU_1_strategy1_dollars                         x                  0.1359   \n",
       "GRU_1_strategy2_dollars                    0.1359                       x   \n",
       "LSTM_15_strategy1_dollars                 0.0119*                 0.0139*   \n",
       "\n",
       "                          LSTM_15_strategy1_dollars LSTM_15_strategy2_dollars  \\\n",
       "LSTM_1_strategy1_dollars                     0.6421                     0.579   \n",
       "LSTM_1_strategy2_dollars                     0.6084                     0.332   \n",
       "GRU_1_strategy1_dollars                     0.0119*                   0.0067*   \n",
       "GRU_1_strategy2_dollars                     0.0139*                   0.0058*   \n",
       "LSTM_15_strategy1_dollars                         x                    0.5184   \n",
       "\n",
       "                          GRU_15_strategy1_dollars GRU_15_strategy2_dollars  \n",
       "LSTM_1_strategy1_dollars                    0.2716                   0.7236  \n",
       "LSTM_1_strategy2_dollars                    0.0668                   0.3619  \n",
       "GRU_1_strategy1_dollars                     0.002*                   0.007*  \n",
       "GRU_1_strategy2_dollars                    0.0016*                  0.0069*  \n",
       "LSTM_15_strategy1_dollars                   0.5528                   0.7991  "
      ]
     },
     "execution_count": 9,
     "metadata": {},
     "output_type": "execute_result"
    }
   ],
   "source": [
    "scores_tests.head()"
   ]
  }
 ],
 "metadata": {
  "kernelspec": {
   "display_name": "Python 3",
   "language": "python",
   "name": "python3"
  },
  "language_info": {
   "codemirror_mode": {
    "name": "ipython",
    "version": 3
   },
   "file_extension": ".py",
   "mimetype": "text/x-python",
   "name": "python",
   "nbconvert_exporter": "python",
   "pygments_lexer": "ipython3",
   "version": "3.6.8"
  },
  "pycharm": {
   "stem_cell": {
    "cell_type": "raw",
    "source": [],
    "metadata": {
     "collapsed": false
    }
   }
  }
 },
 "nbformat": 4,
 "nbformat_minor": 4
}