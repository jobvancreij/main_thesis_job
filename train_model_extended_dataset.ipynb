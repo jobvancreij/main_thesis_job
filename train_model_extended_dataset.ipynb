{
 "cells": [
  {
   "cell_type": "code",
   "execution_count": 2,
   "metadata": {},
   "outputs": [
    {
     "name": "stderr",
     "output_type": "stream",
     "text": [
      "Using TensorFlow backend.\n"
     ]
    }
   ],
   "source": [
    "from keras.models import load_model\n",
    "from LJT_database.feature_prep import feature_preperation\n",
    "from LJT_database.merge_dataset import retrieve_data_predictors\n",
    "from LJT_helper_functions.dataset_prep import prepare_dataset_prediction\n",
    "\n",
    "from LJT_database.firestore_codes import  add_update,retrieve_updates\n",
    "\n",
    "from LJT_database.merge_dataset import retrieve_data_predictors\n",
    "\n",
    "from LJT_database.feature_prep import feature_preperation\n",
    "import numpy as np\n",
    "import pandas as pd"
   ]
  },
  {
   "cell_type": "code",
   "execution_count": 24,
   "metadata": {},
   "outputs": [],
   "source": [
    "model = load_model(\"final_models/final_model_1_min_LSTM_retrained_25_6.h5\")"
   ]
  },
  {
   "cell_type": "code",
   "execution_count": 25,
   "metadata": {},
   "outputs": [
    {
     "name": "stdout",
     "output_type": "stream",
     "text": [
      "Model: \"sequential_1\"\n",
      "_________________________________________________________________\n",
      "Layer (type)                 Output Shape              Param #   \n",
      "=================================================================\n",
      "lstm_1 (LSTM)                (None, 75)                39000     \n",
      "_________________________________________________________________\n",
      "dropout_1 (Dropout)          (None, 75)                0         \n",
      "_________________________________________________________________\n",
      "dense_1 (Dense)              (None, 2)                 152       \n",
      "_________________________________________________________________\n",
      "activation_1 (Activation)    (None, 2)                 0         \n",
      "=================================================================\n",
      "Total params: 39,152\n",
      "Trainable params: 39,152\n",
      "Non-trainable params: 0\n",
      "_________________________________________________________________\n"
     ]
    }
   ],
   "source": [
    "model.summary()"
   ]
  },
  {
   "cell_type": "code",
   "execution_count": 26,
   "metadata": {},
   "outputs": [],
   "source": [
    "settings_analysis = {\n",
    "    \"algoirthm\":\"LSTM\",\n",
    "    \"experiment_date\":\"6_25\",#\"11_6\",\n",
    "    \"neurons\":75,\n",
    "    \"dropout\":0.18498640636327568,\n",
    "    \"loss_func\": \"binary_crossentropy\",\n",
    "    \"activation_function\":\"sigmoid\",\n",
    "    \"number_layers\":1,\n",
    "    \"batch_size\":2120,\n",
    "    \"epochs\":550,\n",
    "    \"bidrectional\":False,\n",
    "    \"window_size\":97,\n",
    "    \"time_ahead_prediction\":1,\n",
    "    \"optimizer\":'adam',\n",
    "    \"learning_rate\": 0.002205456488247791,\n",
    "}"
   ]
  },
  {
   "cell_type": "code",
   "execution_count": 27,
   "metadata": {},
   "outputs": [],
   "source": [
    "general_settings=retrieve_updates(dataset=f\"ETHBTC_LSTM_experiments\",\n",
    "                                        document=\"experiment_general_settings\"\n",
    "                                        )\n",
    "#general_settings['columns'] = \"*\"\n",
    "##general_settings['last_timestamp'] = 1591747200000\n",
    "#general_settings['experiment_date'] = \"6_11_full_dataset_manual\""
   ]
  },
  {
   "cell_type": "code",
   "execution_count": 6,
   "metadata": {},
   "outputs": [
    {
     "name": "stdout",
     "output_type": "stream",
     "text": [
      "This requests costed: 332.79 mb\n"
     ]
    }
   ],
   "source": [
    "dataset_prepared = feature_preperation(retrieve_data_predictors(general_settings)) #retrieve and clea"
   ]
  },
  {
   "cell_type": "code",
   "execution_count": 12,
   "metadata": {},
   "outputs": [
    {
     "name": "stdout",
     "output_type": "stream",
     "text": [
      "Blob ethbtc/6_25_scaler.p downloaded to temp_store/ethbtc/6_25_scaler.p.\n",
      "Blob ethbtc/6_25_pca.p downloaded to temp_store/ethbtc/6_25_pca.p.\n",
      "Blob ethbtc/6_25_columns_scaler.p downloaded to temp_store/ethbtc/6_25_columns_scaler.p.\n",
      "Blob ethbtc/6_25_columns_in_pca.p downloaded to temp_store/ethbtc/6_25_columns_in_pca.p.\n"
     ]
    }
   ],
   "source": [
    "from deep_learning_models.feature_selection import create_reduced_features\n",
    "df = create_reduced_features(dataset_prepared,general_settings)"
   ]
  },
  {
   "cell_type": "code",
   "execution_count": 13,
   "metadata": {},
   "outputs": [],
   "source": [
    "#df = pd.read_csv(\"dataset_full_save.csv\")"
   ]
  },
  {
   "cell_type": "code",
   "execution_count": 14,
   "metadata": {},
   "outputs": [],
   "source": [
    "#df = df[[col for col in df.columns if 'Unname' not in col]]"
   ]
  },
  {
   "cell_type": "code",
   "execution_count": 16,
   "metadata": {},
   "outputs": [
    {
     "data": {
      "text/plain": [
       "Index(['column_0', 'column_1', 'column_2', 'column_3', 'column_4', 'column_5',\n",
       "       'column_6', 'column_7', 'column_8', 'column_9', 'column_10',\n",
       "       'column_11', 'column_12', 'column_13', 'column_14', 'column_15',\n",
       "       'column_16', 'column_17', 'column_18', 'column_19', 'column_20',\n",
       "       'column_21', 'column_22', 'column_23', 'column_24', 'column_25',\n",
       "       'column_26', 'column_27', 'column_28', 'column_29', 'column_30',\n",
       "       'column_31', 'column_32', 'column_33', 'column_34', 'column_35',\n",
       "       'column_36', 'column_37', 'column_38', 'column_39', 'column_40',\n",
       "       'column_41', 'column_42', 'column_43', 'column_44', 'column_45',\n",
       "       'column_46', 'column_47', 'column_48', 'column_49', 'column_50',\n",
       "       'column_51', 'column_52', 'last_start_time',\n",
       "       'ETHBTC__ticker_info__close_price'],\n",
       "      dtype='object')"
      ]
     },
     "execution_count": 16,
     "metadata": {},
     "output_type": "execute_result"
    }
   ],
   "source": [
    "df.columns"
   ]
  },
  {
   "cell_type": "code",
   "execution_count": 22,
   "metadata": {},
   "outputs": [
    {
     "name": "stdout",
     "output_type": "stream",
     "text": [
      "---------------------------------NEW EXPERIMENT -----------------------------------------------\n",
      "current time: 21:53\n",
      "--data--\n",
      "length training data =  143548\n",
      "percentage True train = 0.47679521832418426\n",
      "length test data =  35888\n",
      "percentage True test = 0.468067320552831\n",
      "highest_val_ac 0.5498356223106384\n",
      "{'sensitivity': 0.3495654244552923, 'specificity': 0.7261917234154007, 'precision': 0.5290566717722317, 'accuracy': 0.5499052608114133, 'f_1': 0.420977166003513}\n",
      "Running time  0:56:17.397485\n"
     ]
    }
   ],
   "source": [
    "from deep_learning_models.training_models import build_model\n",
    "model = build_model(settings_analysis,general_settings,df,save_model=True,normalized=True)\n",
    "model.save(\"final_model_1_min_LSTM_long_1_1_new.h5\")"
   ]
  },
  {
   "cell_type": "code",
   "execution_count": 28,
   "metadata": {},
   "outputs": [],
   "source": [
    "from LJT_helper_functions.dataset_prep import prepare_dataset_prediction\n",
    "\n",
    "X_train, X_test, y_train, y_test,dataset_prept = prepare_dataset_prediction(df, {\n",
    "            \"coinpair\": general_settings[\"coin\"],\n",
    "            \"window_size\": int(settings_analysis[\"window_size\"]),\n",
    "            \"training_size\": general_settings[\"training_size\"],\n",
    "            \"bins\": general_settings[\"bins\"],\n",
    "            \"time_steps_ahead_prediction\": int(settings_analysis[\"time_ahead_prediction\"]),\n",
    "            \"include_transaction_cost\": general_settings[\"include_transaction_cost\"]\n",
    "        }, normalized=True,return_dataset=True)"
   ]
  },
  {
   "cell_type": "code",
   "execution_count": 29,
   "metadata": {},
   "outputs": [
    {
     "name": "stdout",
     "output_type": "stream",
     "text": [
      "0.3495654244552923 0.7261917234154007 0.5290566717722317 0.5499052608114133 0.420977166003513 [0 0 1 ... 0 0 1]\n"
     ]
    }
   ],
   "source": [
    "import numpy as np\n",
    "from sklearn.metrics import confusion_matrix\n",
    "\n",
    "def retrieve_scores(model, X_test, y_test):\n",
    "        x = model.predict(X_test)\n",
    "        y_pred = np.argmax(x, axis=1)\n",
    "        tn, fp, fn, tp = confusion_matrix(y_test, y_pred).ravel()\n",
    "        sensitivity = tp / (tp + fn)  # recall\n",
    "        specificity = tn / (fp + tn)\n",
    "        precision = tp / (tp + fp)\n",
    "        accuracy = (tp + tn) / (tp + tn + fp + fn)\n",
    "        f_1 = 2 * ((precision * sensitivity) / (precision + sensitivity))\n",
    "        return sensitivity, specificity, precision, accuracy, f_1,y_pred\n",
    "sensitivity, specificity, precision, accuracy, f_1,predictions = retrieve_scores(model, X_test,y_test)    \n",
    "print(sensitivity, specificity, precision, accuracy, f_1,predictions)"
   ]
  }
 ],
 "metadata": {
  "kernelspec": {
   "display_name": "Python 3",
   "language": "python",
   "name": "python3"
  },
  "language_info": {
   "codemirror_mode": {
    "name": "ipython",
    "version": 3
   },
   "file_extension": ".py",
   "mimetype": "text/x-python",
   "name": "python",
   "nbconvert_exporter": "python",
   "pygments_lexer": "ipython3",
   "version": "3.6.8"
  }
 },
 "nbformat": 4,
 "nbformat_minor": 4
}
